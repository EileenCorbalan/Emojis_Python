{
  "nbformat": 4,
  "nbformat_minor": 0,
  "metadata": {
    "colab": {
      "provenance": [],
      "authorship_tag": "ABX9TyOAmzQZrtSd7H96ohbplgDV",
      "include_colab_link": true
    },
    "kernelspec": {
      "name": "python3",
      "display_name": "Python 3"
    },
    "language_info": {
      "name": "python"
    }
  },
  "cells": [
    {
      "cell_type": "markdown",
      "metadata": {
        "id": "view-in-github",
        "colab_type": "text"
      },
      "source": [
        "<a href=\"https://colab.research.google.com/github/EileenCorbalan/Emojis_Python/blob/main/Untitled0.ipynb\" target=\"_parent\"><img src=\"https://colab.research.google.com/assets/colab-badge.svg\" alt=\"Open In Colab\"/></a>"
      ]
    },
    {
      "cell_type": "code",
      "source": [],
      "metadata": {
        "id": "GDvIELpwi6RK"
      },
      "execution_count": null,
      "outputs": []
    },
    {
      "cell_type": "code",
      "execution_count": null,
      "metadata": {
        "id": "MDrxL_5qivHv"
      },
      "outputs": [],
      "source": []
    },
    {
      "cell_type": "markdown",
      "source": [
        "Dejo una lista de referencia por acá, ya veremos cómo trabajar con ella cuándo entremos al código.\n",
        "\n",
        "| Unicode | Emoji  | CLDR Short Name\n",
        "| ------- | ----   | -----------------------------|\n",
        "| U+1F600 |  😀    | grinning face\n",
        "| U+1F61C |  😜    | winking face with tongue\n",
        "| U+1F929 |  🤩    | star-struck\n",
        "| U+1F970 |  🥰    | smiling face with hearts\n",
        "| U+1F63A |  😺    | grinning cat\n",
        "| U+1F63B |  😻    | smiling cat with heart-eyes\n",
        "| U+1F64A |  🙊\t   | speak no evil monkey\n",
        "| U+1F9E1 |  🧡    | orange heart\n",
        "| U+1F44D |  👍    |  thumbs up\n"
      ],
      "metadata": {
        "id": "QYfq6j-Ti0ud"
      }
    }
  ]
}