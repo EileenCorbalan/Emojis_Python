{
 "cells": [
  {
   "cell_type": "markdown",
   "id": "916db593",
   "metadata": {},
   "source": [
    "# Emojis 😻\n",
    "\n",
    "¿Quién no ama los Emojis? Yo soy fan, los uso en todas las aplicaciones, no podían faltar en mi código! \n",
    "En la práctica existe más de un método para imprimir emojis. \n",
    "Si me acompañan, les voy a mostrar como hacerlo con Unicodes, CLDR y módulo emoji.\n",
    "¿Vamos?\n"
   ]
  },
  {
   "cell_type": "markdown",
   "id": "854d8fd3",
   "metadata": {},
   "source": [
    "Dejo una lista de referencia por acá, ya veremos cómo trabajar con ella cuándo entremos al código.\n",
    "\n",
    "| Unicode | Emoji  | CLDR Short Name\n",
    "| ------- | ----   | -----------------------------|\n",
    "| U+1F600 |  😀    | grinning face\n",
    "| U+1F61C |  😜    | winking face with tongue\n",
    "| U+1F929 |  🤩    | star-struck\n",
    "| U+1F970 |  🥰    | smiling face with hearts\n",
    "| U+1F63A |  😺    | grinning cat\n",
    "| U+1F63B |  😻    | smiling cat with heart-eyes\n",
    "| U+1F64A |  🙊\t   | speak no evil monkey\t\n",
    "| U+1F9E1 |  🧡    | orange heart\n",
    "| U+1F44D |  👍    |  thumbs up"
   ]
  },
  {
   "cell_type": "markdown",
   "id": "39f4ad9a",
   "metadata": {},
   "source": [
    "## Método 1 - Unicode\n",
    "Antes que nada... ¿Qué es Unicode?\n",
    "\n",
    "Unicode es un estándar internacional que asigna un número único a cada emoji, además de otros símbolos y caracteres. Esto ahorra problemas de codificación en la comunicación global. \n",
    "\n",
    "Volviendo al ejercicio, si tomamos los códigos Unicode de la lista de referencia, reemplazamos “+” por “000” anteponiendo el código con “\\” nos mostrará el emoji elejido. \n"
   ]
  },
  {
   "cell_type": "code",
   "execution_count": 17,
   "id": "7c730598",
   "metadata": {},
   "outputs": [
    {
     "name": "stdout",
     "output_type": "stream",
     "text": [
      "😀\n"
     ]
    }
   ],
   "source": [
    "# Imprimo cara sonriente\n",
    "print(\"\\U0001F600\")"
   ]
  },
  {
   "cell_type": "code",
   "execution_count": 18,
   "id": "38122688",
   "metadata": {},
   "outputs": [
    {
     "name": "stdout",
     "output_type": "stream",
     "text": [
      "Soy una persona amante de los gatos 😻\n"
     ]
    }
   ],
   "source": [
    "# ImprimoUso frase más emoji\n",
    "print(\"Soy una persona amante de los gatos \\U0001F63B\")"
   ]
  },
  {
   "cell_type": "markdown",
   "id": "5c6753fa",
   "metadata": {},
   "source": [
    "## Método 2 - Módulo Emoji\n",
    "\n",
    "Los emojis también se pueden implementar utilizando el módulo emoji proporcionado en Python. Para ello vamos a instalar la librería emoji.\n",
    "\n",
    "Vamos a utilizar la función **emojize()**, esta requiere que se le pase el CLDR short name como parámetro para devolver el emoji correspondiente, además tenemos que sustituir los espacios por guión bajo en el CLDR short name.\n",
    "\n",
    "A todo esto... ¿Saben que es el CLDR Short Name? El Common Locale Data Repository Short Name, es una cadena de texto descriptiva que se utiliza para identificar y referenciar emojis de una manera más humana y legible en lugar de usar el código Unicode correspondiente."
   ]
  },
  {
   "cell_type": "code",
   "execution_count": 7,
   "id": "a2d77291",
   "metadata": {},
   "outputs": [
    {
     "name": "stdout",
     "output_type": "stream",
     "text": [
      "Requirement already satisfied: emoji in c:\\users\\eilee\\anaconda3\\lib\\site-packages (2.12.1)Note: you may need to restart the kernel to use updated packages.\n",
      "\n",
      "Requirement already satisfied: typing-extensions>=4.7.0 in c:\\users\\eilee\\anaconda3\\lib\\site-packages (from emoji) (4.12.2)\n"
     ]
    }
   ],
   "source": [
    "#instalo la libreria emoji\n",
    "pip install emoji"
   ]
  },
  {
   "cell_type": "code",
   "execution_count": 10,
   "id": "22f1b2e6",
   "metadata": {},
   "outputs": [],
   "source": [
    "#importo el módulo emoji\n",
    "import emoji"
   ]
  },
  {
   "cell_type": "code",
   "execution_count": 21,
   "id": "a5f661f3",
   "metadata": {},
   "outputs": [
    {
     "name": "stdout",
     "output_type": "stream",
     "text": [
      "😀\n",
      "😺\n",
      "🧡\n"
     ]
    }
   ],
   "source": [
    "# Uso los CLDR Short Names para insertar emojis\n",
    "print(emoji.emojize(\":grinning_face:\"))\n",
    "print(emoji.emojize(\":grinning_cat:\"))\n",
    "print(emoji.emojize(\":orange_heart:\"))"
   ]
  },
  {
   "cell_type": "markdown",
   "id": "64a7655c",
   "metadata": {},
   "source": [
    "## Método 3 - Insertar emojis desde Windows \n",
    "\n",
    "En Windows es posible contar con un panel de emojis y símbolos e insertarlos en el código de forma directa. Para implementarlo vamos a abrir el panel con `Windows` + `.` , buscamos el emoji deseado y damos enter para agregarlo. "
   ]
  },
  {
   "cell_type": "code",
   "execution_count": 23,
   "id": "b556e482",
   "metadata": {},
   "outputs": [
    {
     "name": "stdout",
     "output_type": "stream",
     "text": [
      "🤩\n"
     ]
    }
   ],
   "source": [
    "print(\"🤩\")"
   ]
  },
  {
   "cell_type": "markdown",
   "id": "1dac1edf",
   "metadata": {},
   "source": [
    "## Fuentes\n",
    "https://unicode.org/emoji/charts/full-emoji-list.html\n",
    "\n",
    "https://www.geeksforgeeks.org/python-program-to-print-emojis/"
   ]
  }
 ],
 "metadata": {
  "kernelspec": {
   "display_name": "Python 3 (ipykernel)",
   "language": "python",
   "name": "python3"
  },
  "language_info": {
   "codemirror_mode": {
    "name": "ipython",
    "version": 3
   },
   "file_extension": ".py",
   "mimetype": "text/x-python",
   "name": "python",
   "nbconvert_exporter": "python",
   "pygments_lexer": "ipython3",
   "version": "3.10.9"
  }
 },
 "nbformat": 4,
 "nbformat_minor": 5
}
