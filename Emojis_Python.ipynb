{
  "nbformat": 4,
  "nbformat_minor": 0,
  "metadata": {
    "colab": {
      "provenance": [],
      "authorship_tag": "ABX9TyMhsRAmPd01Z93FGPe9oJlr",
      "include_colab_link": true
    },
    "kernelspec": {
      "name": "python3",
      "display_name": "Python 3"
    },
    "language_info": {
      "name": "python"
    }
  },
  "cells": [
    {
      "cell_type": "markdown",
      "metadata": {
        "id": "view-in-github",
        "colab_type": "text"
      },
      "source": [
        "<a href=\"https://colab.research.google.com/github/EileenCorbalan/Emojis_Python/blob/main/Emojis_Python.ipynb\" target=\"_parent\"><img src=\"https://colab.research.google.com/assets/colab-badge.svg\" alt=\"Open In Colab\"/></a>"
      ]
    },
    {
      "cell_type": "markdown",
      "source": [
        "# Tutorial Emojis 😻\n",
        "\n",
        "¿Quién no ama los Emojis? Yo soy fan, los uso en todas las aplicaciones, no podían faltar en mi código! En la práctica existe más de un método para imprimir emojis. Si me acompañan, les voy a mostrar como hacerlo con Unicodes, CLDR y módulo emoji. ¿Vamos?"
      ],
      "metadata": {
        "id": "I5t_ZineVOpa"
      }
    },
    {
      "cell_type": "markdown",
      "source": [
        "Dejo una lista de referencia por acá, ya veremos cómo trabajar con ella cuándo entremos al código.\n",
        "\n",
        "| Unicode | Emoji  | CLDR Short Name\n",
        "| ------- | ----   | -----------------------------|\n",
        "| U+1F600 |  😀    | grinning face\n",
        "| U+1F61C |  😜    | winking face with tongue\n",
        "| U+1F929 |  🤩    | star-struck\n",
        "| U+1F970 |  🥰    | smiling face with hearts\n",
        "| U+1F63A |  😺    | grinning cat\n",
        "| U+1F63B |  😻    | smiling cat with heart-eyes\n",
        "| U+1F64A |  🙊\t   | speak no evil monkey\n",
        "| U+1F9E1 |  🧡    | orange heart\n",
        "| U+1F44D |  👍    |  thumbs up\n"
      ],
      "metadata": {
        "id": "QYfq6j-Ti0ud"
      }
    },
    {
      "cell_type": "markdown",
      "source": [
        "## Método 1 - Unicode\n",
        "Antes que nada... ¿Qué es Unicode?\n",
        "\n",
        "Unicode es un estándar internacional que asigna un número único a cada emoji, además de otros símbolos y caracteres. Esto ahorra problemas de codificación en la comunicación global.\n",
        "\n",
        "Volviendo al ejercicio, si tomamos los códigos Unicode de la lista de referencia, reemplazamos “+” por “000” anteponiendo el código con “\\” nos mostrará el emoji elejido."
      ],
      "metadata": {
        "id": "PSwra6eBWIRz"
      }
    },
    {
      "cell_type": "code",
      "source": [
        "# Imprimo cara sonriente\n",
        "print(\"\\U0001F600\")"
      ],
      "metadata": {
        "colab": {
          "base_uri": "https://localhost:8080/"
        },
        "id": "nZxPYIZbWLJj",
        "outputId": "a61a7901-3d2d-42bb-de8b-d7282ccd1441"
      },
      "execution_count": 1,
      "outputs": [
        {
          "output_type": "stream",
          "name": "stdout",
          "text": [
            "😀\n"
          ]
        }
      ]
    },
    {
      "cell_type": "code",
      "source": [
        "# ImprimoUso frase más emoji\n",
        "print(\"Soy una persona amante de los gatos \\U0001F63B\")"
      ],
      "metadata": {
        "colab": {
          "base_uri": "https://localhost:8080/"
        },
        "id": "3O6I8v1yWPxq",
        "outputId": "b1fa1ddc-5f98-4517-ff8e-001700206f3a"
      },
      "execution_count": 2,
      "outputs": [
        {
          "output_type": "stream",
          "name": "stdout",
          "text": [
            "Soy una persona amante de los gatos 😻\n"
          ]
        }
      ]
    },
    {
      "cell_type": "markdown",
      "source": [
        "## Método 2 - Módulo Emoji\n",
        "\n",
        "Los emojis también se pueden implementar utilizando el módulo emoji proporcionado en Python. Para ello vamos a instalar la librería emoji.\n",
        "\n",
        "Vamos a utilizar la función **emojize()**, esta requiere que se le pase el CLDR short name como parámetro para devolver el emoji correspondiente, además tenemos que sustituir los espacios por guión bajo en el CLDR short name.\n",
        "\n",
        "A todo esto... ¿Saben que es el CLDR Short Name? El Common Locale Data Repository Short Name, es una cadena de texto descriptiva que se utiliza para identificar y referenciar emojis de una manera más humana y legible en lugar de usar el código Unicode correspondiente.\n"
      ],
      "metadata": {
        "id": "8yeP72WYWV93"
      }
    },
    {
      "cell_type": "code",
      "source": [
        "#instalo la libreria emoji\n",
        "!pip install emoji"
      ],
      "metadata": {
        "colab": {
          "base_uri": "https://localhost:8080/"
        },
        "id": "Pcx8WalzWS5c",
        "outputId": "83380318-89e6-4b90-bddf-54a24fcac8c9"
      },
      "execution_count": 8,
      "outputs": [
        {
          "output_type": "stream",
          "name": "stdout",
          "text": [
            "Collecting emoji\n",
            "  Downloading emoji-2.12.1-py3-none-any.whl.metadata (5.4 kB)\n",
            "Requirement already satisfied: typing-extensions>=4.7.0 in /usr/local/lib/python3.10/dist-packages (from emoji) (4.12.2)\n",
            "Downloading emoji-2.12.1-py3-none-any.whl (431 kB)\n",
            "\u001b[2K   \u001b[90m━━━━━━━━━━━━━━━━━━━━━━━━━━━━━━━━━━━━━━━━\u001b[0m \u001b[32m431.4/431.4 kB\u001b[0m \u001b[31m5.8 MB/s\u001b[0m eta \u001b[36m0:00:00\u001b[0m\n",
            "\u001b[?25hInstalling collected packages: emoji\n",
            "Successfully installed emoji-2.12.1\n"
          ]
        }
      ]
    },
    {
      "cell_type": "code",
      "source": [
        "#importo el módulo emoji\n",
        "import emoji"
      ],
      "metadata": {
        "id": "AT0TORJJWixj"
      },
      "execution_count": 9,
      "outputs": []
    },
    {
      "cell_type": "code",
      "source": [
        "# Uso los CLDR Short Names para insertar emojis\n",
        "print(emoji.emojize(\":grinning_face:\"))\n",
        "print(emoji.emojize(\":grinning_cat:\"))\n",
        "print(emoji.emojize(\":orange_heart:\"))"
      ],
      "metadata": {
        "colab": {
          "base_uri": "https://localhost:8080/"
        },
        "id": "xHaeqtQ7WylU",
        "outputId": "202737a6-1479-4083-bf7e-a521892d608c"
      },
      "execution_count": 10,
      "outputs": [
        {
          "output_type": "stream",
          "name": "stdout",
          "text": [
            "😀\n",
            "😺\n",
            "🧡\n"
          ]
        }
      ]
    },
    {
      "cell_type": "markdown",
      "source": [
        "## Método 3 - Insertar emojis desde Windows\n",
        "\n",
        "En Windows es posible contar con un panel de emojis y símbolos e insertarlos en el código de forma directa. Para implementarlo vamos a abrir el panel con `Windows` + `.` , buscamos el emoji deseado y damos enter para agregarlo."
      ],
      "metadata": {
        "id": "1e96iN6yW2ns"
      }
    },
    {
      "cell_type": "code",
      "source": [
        "print(\"🤩\")"
      ],
      "metadata": {
        "colab": {
          "base_uri": "https://localhost:8080/"
        },
        "id": "D9HC7rAVW7sD",
        "outputId": "512877be-318a-49b1-9c7b-921145b3e6a7"
      },
      "execution_count": 7,
      "outputs": [
        {
          "output_type": "stream",
          "name": "stdout",
          "text": [
            "🤩\n"
          ]
        }
      ]
    },
    {
      "cell_type": "markdown",
      "source": [
        "## Fuentes\n",
        "https://unicode.org/emoji/charts/full-emoji-list.html\n",
        "\n",
        "https://www.geeksforgeeks.org/python-program-to-print-emojis/"
      ],
      "metadata": {
        "id": "AR1sTqOLW-7F"
      }
    }
  ]
}